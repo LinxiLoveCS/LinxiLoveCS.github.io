{
 "cells": [
  {
   "cell_type": "markdown",
   "metadata": {},
   "source": [
    "<center><span style=\"font-size:2em;\">Suicide Around the Wrold Over 1985 - 2014</span></center>\n",
    "<center><span style=\"font-size:1.5em;\">By: Linxi  Liu</span></center>\n",
    "Lots studies have been done to study about suicide with the expectation to learn what factors typically associate with suicide and people want to predict suicide to prevent the tragedies. In this essay, I studied the suicide data from [Kaggle.com](https://www.kaggle.com/russellyates88/suicide-rates-overview-1985-to-2016) and have found three main interesting things: \n",
    "\n",
    "1.  How suicide rate diffrent among countires? Which country has the highest suicide rate?\n",
    "2.  Correlation between gender, age and the number of suicide.\n",
    "\n",
    "However, always remember that correlation does not necessarily mean a causual effect. "
   ]
  },
  {
   "cell_type": "markdown",
   "metadata": {},
   "source": [
    "### First, let's read in and pre-process the data"
   ]
  },
  {
   "cell_type": "code",
   "execution_count": 1,
   "metadata": {},
   "outputs": [
    {
     "name": "stdout",
     "output_type": "stream",
     "text": [
      "Enabling notebook extension jupyter-js-widgets/extension...\r\n",
      "      - Validating: \u001b[32mOK\u001b[0m\r\n"
     ]
    }
   ],
   "source": [
    "%matplotlib inline\n",
    "import pandas as pd\n",
    "import matplotlib.pyplot as plt\n",
    "import numpy as np\n",
    "from ipywidgets import *\n",
    "from IPython.display import display\n",
    "!jupyter nbextension enable --py widgetsnbextension\n",
    "import warnings\n",
    "warnings.filterwarnings('ignore')\n",
    "import plotly.plotly as py\n",
    "import plotly.graph_objs as go\n",
    "from plotly.offline import download_plotlyjs, init_notebook_mode, plot, iplot"
   ]
  },
  {
   "cell_type": "code",
   "execution_count": 2,
   "metadata": {},
   "outputs": [
    {
     "name": "stdout",
     "output_type": "stream",
     "text": [
      "(27820, 12)\n"
     ]
    },
    {
     "data": {
      "text/html": [
       "<div>\n",
       "<style scoped>\n",
       "    .dataframe tbody tr th:only-of-type {\n",
       "        vertical-align: middle;\n",
       "    }\n",
       "\n",
       "    .dataframe tbody tr th {\n",
       "        vertical-align: top;\n",
       "    }\n",
       "\n",
       "    .dataframe thead th {\n",
       "        text-align: right;\n",
       "    }\n",
       "</style>\n",
       "<table border=\"1\" class=\"dataframe\">\n",
       "  <thead>\n",
       "    <tr style=\"text-align: right;\">\n",
       "      <th></th>\n",
       "      <th>country</th>\n",
       "      <th>year</th>\n",
       "      <th>sex</th>\n",
       "      <th>age</th>\n",
       "      <th>suicides_no</th>\n",
       "      <th>population</th>\n",
       "      <th>suicides/100k pop</th>\n",
       "      <th>country-year</th>\n",
       "      <th>HDI for year</th>\n",
       "      <th>gdp_for_year ($)</th>\n",
       "      <th>gdp_per_capita ($)</th>\n",
       "      <th>generation</th>\n",
       "      <th>mean_age</th>\n",
       "    </tr>\n",
       "  </thead>\n",
       "  <tbody>\n",
       "    <tr>\n",
       "      <th>72</th>\n",
       "      <td>Albania</td>\n",
       "      <td>1995.0</td>\n",
       "      <td>male</td>\n",
       "      <td>25-34 years</td>\n",
       "      <td>13.0</td>\n",
       "      <td>232900.0</td>\n",
       "      <td>5.58</td>\n",
       "      <td>Albania1995</td>\n",
       "      <td>0.619</td>\n",
       "      <td>2,424,499,009</td>\n",
       "      <td>835.0</td>\n",
       "      <td>Generation X</td>\n",
       "      <td>29.5</td>\n",
       "    </tr>\n",
       "    <tr>\n",
       "      <th>73</th>\n",
       "      <td>Albania</td>\n",
       "      <td>1995.0</td>\n",
       "      <td>male</td>\n",
       "      <td>55-74 years</td>\n",
       "      <td>9.0</td>\n",
       "      <td>178000.0</td>\n",
       "      <td>5.06</td>\n",
       "      <td>Albania1995</td>\n",
       "      <td>0.619</td>\n",
       "      <td>2,424,499,009</td>\n",
       "      <td>835.0</td>\n",
       "      <td>Silent</td>\n",
       "      <td>64.5</td>\n",
       "    </tr>\n",
       "    <tr>\n",
       "      <th>74</th>\n",
       "      <td>Albania</td>\n",
       "      <td>1995.0</td>\n",
       "      <td>female</td>\n",
       "      <td>75+ years</td>\n",
       "      <td>2.0</td>\n",
       "      <td>40800.0</td>\n",
       "      <td>4.90</td>\n",
       "      <td>Albania1995</td>\n",
       "      <td>0.619</td>\n",
       "      <td>2,424,499,009</td>\n",
       "      <td>835.0</td>\n",
       "      <td>G.I. Generation</td>\n",
       "      <td>75.0</td>\n",
       "    </tr>\n",
       "    <tr>\n",
       "      <th>75</th>\n",
       "      <td>Albania</td>\n",
       "      <td>1995.0</td>\n",
       "      <td>female</td>\n",
       "      <td>15-24 years</td>\n",
       "      <td>13.0</td>\n",
       "      <td>283500.0</td>\n",
       "      <td>4.59</td>\n",
       "      <td>Albania1995</td>\n",
       "      <td>0.619</td>\n",
       "      <td>2,424,499,009</td>\n",
       "      <td>835.0</td>\n",
       "      <td>Generation X</td>\n",
       "      <td>19.5</td>\n",
       "    </tr>\n",
       "    <tr>\n",
       "      <th>76</th>\n",
       "      <td>Albania</td>\n",
       "      <td>1995.0</td>\n",
       "      <td>male</td>\n",
       "      <td>15-24 years</td>\n",
       "      <td>11.0</td>\n",
       "      <td>241200.0</td>\n",
       "      <td>4.56</td>\n",
       "      <td>Albania1995</td>\n",
       "      <td>0.619</td>\n",
       "      <td>2,424,499,009</td>\n",
       "      <td>835.0</td>\n",
       "      <td>Generation X</td>\n",
       "      <td>19.5</td>\n",
       "    </tr>\n",
       "  </tbody>\n",
       "</table>\n",
       "</div>"
      ],
      "text/plain": [
       "    country    year     sex          age  suicides_no  population  \\\n",
       "72  Albania  1995.0    male  25-34 years         13.0    232900.0   \n",
       "73  Albania  1995.0    male  55-74 years          9.0    178000.0   \n",
       "74  Albania  1995.0  female    75+ years          2.0     40800.0   \n",
       "75  Albania  1995.0  female  15-24 years         13.0    283500.0   \n",
       "76  Albania  1995.0    male  15-24 years         11.0    241200.0   \n",
       "\n",
       "    suicides/100k pop country-year  HDI for year  gdp_for_year ($)   \\\n",
       "72               5.58  Albania1995         0.619      2,424,499,009   \n",
       "73               5.06  Albania1995         0.619      2,424,499,009   \n",
       "74               4.90  Albania1995         0.619      2,424,499,009   \n",
       "75               4.59  Albania1995         0.619      2,424,499,009   \n",
       "76               4.56  Albania1995         0.619      2,424,499,009   \n",
       "\n",
       "    gdp_per_capita ($)       generation  mean_age  \n",
       "72               835.0     Generation X      29.5  \n",
       "73               835.0           Silent      64.5  \n",
       "74               835.0  G.I. Generation      75.0  \n",
       "75               835.0     Generation X      19.5  \n",
       "76               835.0     Generation X      19.5  "
      ]
     },
     "execution_count": 2,
     "metadata": {},
     "output_type": "execute_result"
    }
   ],
   "source": [
    "# read in data\n",
    "data = pd.read_csv('master.csv')\n",
    "print(data.shape)\n",
    "data.head()\n",
    "# add a mean_age column\n",
    "data.loc['mean_age'] = None\n",
    "data.loc[data.age == '15-24 years','mean_age'] = np.mean([15,24])\n",
    "data.loc[data.age == '25-34 years','mean_age'] = np.mean([25,34])\n",
    "data.loc[data.age == '35-54 years','mean_age'] = np.mean([35,54])\n",
    "data.loc[data.age == '5-14 years','mean_age'] = np.mean([5,14])\n",
    "data.loc[data.age == '55-74 years','mean_age'] = np.mean([55,74])\n",
    "data.loc[data.age == '75+ years','mean_age'] = 75\n",
    "data = data.dropna()\n",
    "data.head()"
   ]
  },
  {
   "cell_type": "code",
   "execution_count": 3,
   "metadata": {},
   "outputs": [
    {
     "name": "stdout",
     "output_type": "stream",
     "text": [
      "(249, 2)\n"
     ]
    }
   ],
   "source": [
    "# !pip install pycountry\n",
    "import pycountry\n",
    "country_dict = pd.DataFrame()\n",
    "for ctry in list(pycountry.countries):\n",
    "    country_code = ctry.alpha_3\n",
    "    country_name = ctry.name\n",
    "    country_dict = pd.concat([country_dict,pd.DataFrame([country_code,country_name]).T])\n",
    "country_dict.columns = ['country_code','country']\n",
    "print(country_dict.shape)\n",
    "# country_dict.head()"
   ]
  },
  {
   "cell_type": "markdown",
   "metadata": {},
   "source": [
    "### 1. How suicide rate diffrent among countires? Which country has the highest suicide rate?"
   ]
  },
  {
   "cell_type": "code",
   "execution_count": 4,
   "metadata": {},
   "outputs": [
    {
     "data": {
      "application/vnd.jupyter.widget-view+json": {
       "model_id": "d2f049b138d0408ebae50133d543520e",
       "version_major": 2,
       "version_minor": 0
      },
      "text/plain": [
       "interactive(children=(Dropdown(description='Year', options=(1985.0, 1990.0, 1995.0, 2000.0, 2005.0, 2010.0, 20…"
      ]
     },
     "metadata": {},
     "output_type": "display_data"
    }
   ],
   "source": [
    "# plot on map suicide rate vs. country over time\n",
    "import ipywidgets # interactivity\n",
    "country_year_rate = data.groupby(['year','country'])['suicides/100k pop'].sum()\n",
    "country_year_rate = country_year_rate.unstack().reset_index().melt(id_vars='year')\n",
    "country_year_rate = country_year_rate.fillna(0)\n",
    "country_year_rate = country_year_rate.merge(country_dict, on='country',how = 'left')\n",
    "\n",
    "country_year_count = data.groupby(['year'])['suicides_no'].sum()\n",
    "country_year_count = country_year_count.fillna(0)\n",
    "@ipywidgets.interact(Year = np.unique(country_year_rate.year))\n",
    "def world_map(Year):\n",
    "    # Year = 1985\n",
    "    mask = country_year_rate[country_year_rate.year == Year]\n",
    "    max_value = max(mask.value)\n",
    "    max_country = mask[mask.value == max(mask.value)]['country'].values[0]\n",
    "    country_year_rate[country_year_rate.country == max_country]\n",
    "    init_notebook_mode(connected=True)\n",
    "    data = [go.Choropleth(\n",
    "        locations = mask['country_code'],\n",
    "        z = mask['value'],\n",
    "        text = mask['country'],\n",
    "        colorscale = [\n",
    "            [0, \"rgb(110, 11, 24)\"],   \n",
    "            [0.35, \"rgb(179, 70, 70)\"],\n",
    "            [0.5, \"rgb(190,88,100)\"],\n",
    "            [0.6, \"rgb(201, 127,135 )\"],\n",
    "            [0.7, \"rgb(212, 166, 170)\"],\n",
    "            [1, \"rgb(220, 220, 220)\"]\n",
    "        ],\n",
    "        autocolorscale = False,\n",
    "        reversescale = True,\n",
    "        marker = go.choropleth.Marker(\n",
    "            line = go.choropleth.marker.Line(\n",
    "                color = 'rgb(180,180,180)',\n",
    "                width = 0.5\n",
    "            )),\n",
    "        colorbar = go.choropleth.ColorBar(\n",
    "            title = 'Suicide/100k Pop'),\n",
    "    )]\n",
    "\n",
    "    layout = go.Layout(\n",
    "        title = go.layout.Title(\n",
    "            text = 'Suicide/100k Pop around World in {} <br> {} has the maximun suicide/100k pop of {} this year'.format(Year.astype(int),max_country,round(max_value,2))\n",
    "        ),\n",
    "        geo = go.layout.Geo(\n",
    "            showframe = False,\n",
    "            showcoastlines = False,\n",
    "            projection = go.layout.geo.Projection(\n",
    "                type = 'equirectangular'\n",
    "            )\n",
    "        ),\n",
    "        annotations = [go.layout.Annotation(\n",
    "            x = 0.55,\n",
    "            y = 0.1,\n",
    "            xref = 'paper',\n",
    "            yref = 'paper',\n",
    "            text = 'Total number of suicides around world is {}'.format(country_year_count.loc[Year]),\n",
    "            showarrow = False\n",
    "        )] \n",
    "    )\n",
    "\n",
    "    fig = go.Figure(data = data, layout = layout)\n",
    "    iplot(fig, filename = 'world-map')"
   ]
  },
  {
   "cell_type": "markdown",
   "metadata": {},
   "source": [
    "This image shows the suicide rate (defined as: total suicide divided by 100k population) around the world. You can choose a year of your interests. The deeper the color, the higher the suicide in that country. Note that the world map is not a complete map as the suicide information in some country, such as China, is not included in the dataset. \n",
    "\n",
    "I have observed that Lithuania has the highest suicide rate in many years (e.g. 1995, 2000, and 2005). I have, therefore, did some research online to find possible reasons. It seems suicide in Lithuania is so significant that there is even an [Wikipedia](https://en.wikipedia.org/wiki/Suicide_in_Lithuania) page for this issue. As mentioned by Kasparas Asmonaitis (2017) some researchers point out the fact that although northern countries such as Lithuanina has beautiful nature, the lack of  sunshine and the cold winters make people tend to depress, one of the common signs before suicide. Social and financial problems in Lithuania are also considered  as important reasons factors that lead to high rate of suicides. "
   ]
  },
  {
   "cell_type": "markdown",
   "metadata": {},
   "source": [
    "### 2. Correlation between gender, age and the number of suicide"
   ]
  },
  {
   "cell_type": "code",
   "execution_count": 5,
   "metadata": {},
   "outputs": [
    {
     "data": {
      "image/png": "[encoded data removed]",
      "text/plain": [
       "<Figure size 432x288 with 1 Axes>"
      ]
     },
     "metadata": {},
     "output_type": "display_data"
    }
   ],
   "source": [
    "age_sex_count = data.groupby(['age','sex'])['suicides_no'].sum().unstack().reset_index().melt(id_vars='age')\n",
    "from itertools import islice, cycle\n",
    "mycolors = list(islice(cycle(['darkorange', 'steelblue']), None, len(age_sex_count)))\n",
    "age_sex_count = data.groupby(by=['age','sex'])['suicides_no'].sum()\n",
    "age_sex_count.plot(kind = 'bar',color = mycolors)\n",
    "plt.title('Number of Suicides by Sex & Gender')\n",
    "plt.ylabel('Suicide Counts')\n",
    "plt.xlabel('Age & Sex groups')\n",
    "plt.text(10, 398870, 'Female', style='italic',\n",
    "        bbox={'facecolor':'tab:orange', 'alpha': .9, 'pad': 5})\n",
    "plt.text(10, 458870, 'Male', style='italic',\n",
    "        bbox={'facecolor':'tab:blue', 'alpha': .6, 'pad': 5})\n",
    "plt.show()\n"
   ]
  },
  {
   "cell_type": "markdown",
   "metadata": {},
   "source": [
    "From the graph above,  we can observe that in any age and gender group, more males tend to kill themselves than females. Also, the suicide counts first increase along with age and reach a peack in the 35-54 age group, and then decrease since then. \n",
    "\n",
    "Next I displayed an average age of people committed suicide across years in different countires. You could choose a countrie of your interest.  For example if you want to see how the suicide age in Lithuania compared to other countries, you can specify the countries. "
   ]
  },
  {
   "cell_type": "code",
   "execution_count": 6,
   "metadata": {},
   "outputs": [
    {
     "data": {
      "text/plain": [
       "country\n",
       "Antigua and Barbuda     0.0\n",
       "Grenada                 3.0\n",
       "Maldives                4.0\n",
       "Oman                   20.0\n",
       "Seychelles             32.0\n",
       "Name: suicides_no, dtype: float64"
      ]
     },
     "execution_count": 6,
     "metadata": {},
     "output_type": "execute_result"
    }
   ],
   "source": [
    "country_suicide = data.groupby('country')['suicides_no'].sum()\n",
    "country_suicide = country_suicide.sort_values()\n",
    "country_suicide.head()"
   ]
  },
  {
   "cell_type": "code",
   "execution_count": 7,
   "metadata": {},
   "outputs": [
    {
     "data": {
      "application/vnd.jupyter.widget-view+json": {
       "model_id": "6dea0c70e20a4fa390b5bf2849a3de7c",
       "version_major": 2,
       "version_minor": 0
      },
      "text/plain": [
       "interactive(children=(Dropdown(description='country', options=('Albania', 'Antigua and Barbuda', 'Argentina', …"
      ]
     },
     "metadata": {},
     "output_type": "display_data"
    }
   ],
   "source": [
    "# Rolling average age in different countries across years\n",
    "country_suicide = data.groupby('country')['suicides_no'].sum()\n",
    "country_suicide = country_suicide.sort_values()\n",
    "\n",
    "@ipywidgets.interact(country = np.unique(data.country))\n",
    "def print_name(country):\n",
    "#     country = 'Japan'\n",
    "\n",
    "    country_sub = data[data.country == country]\n",
    "    country_sub['total_age'] = country_sub['mean_age']*country_sub['suicides_no']\n",
    "    country_sub['total_age'] = country_sub['total_age'].astype(float)\n",
    "    country_total_age = country_sub.groupby('year')['total_age'].sum()\n",
    "    country_total_suicide = country_sub.groupby('year')['suicides_no'].sum()\n",
    "    country_mean_age = country_total_age / country_total_suicide\n",
    "\n",
    "    # make data look less noisy with rolling averages\n",
    "    @ipywidgets.interact(Window=(1,len(country_mean_age),1))\n",
    "    def make_plot(Window):\n",
    "        avg_age_avg = country_mean_age.rolling(window=Window).mean()\n",
    "        plt.plot(country_mean_age, marker='.', linewidth=0.5, alpha=1,label = 'average age')\n",
    "        plt.plot(avg_age_avg, marker='.', linewidth=1.5, label='rolling average age')\n",
    "        plt.title('Rolling Average Age of Suicides in {} Over Years'.format(country))\n",
    "        plt.legend()\n",
    "        plt.xlabel('Year')\n",
    "        plt.ylabel('Suicide Age')"
   ]
  },
  {
   "cell_type": "markdown",
   "metadata": {},
   "source": [
    "It seems the average suicide age in a lot of the countries has an increasing tendency. For example, the average suicide age in Lithuanina has been increasing since 1995 to 2012, although dropped significantly in 2013, but skyrocked again in year 2014. I have  also observed that the average suicide age, around 50 to 55,in many Europe countries  is slightly higher than that in North America, typically between 44 and 50. "
   ]
  },
  {
   "cell_type": "markdown",
   "metadata": {},
   "source": [
    "### References:\n",
    "- Rusty (2018).*Suicide Rates Overview 1985 to 2016 (version1)*. Retrived from: https://www.kaggle.com/russellyates88/suicide-rates-overview-1985-to-2016\n",
    "- Wikpedia Suicide in Lithuania. Retrived from: https://en.wikipedia.org/wiki/Suicide_in_Lithuania\n",
    "- Kasparas Asmonaitis (November,2017).*This Country Has Among the Highest Suicide Rates in the World*. Retrived from: https://theculturetrip.com/europe/lithuania/articles/this-country-has-among-the-highest-suicide-rates-in-the-world/"
   ]
  }
 ],
 "metadata": {
  "kernelspec": {
   "display_name": "Python 3",
   "language": "python",
   "name": "python3"
  },
  "language_info": {
   "codemirror_mode": {
    "name": "ipython",
    "version": 3
   },
   "file_extension": ".py",
   "mimetype": "text/x-python",
   "name": "python",
   "nbconvert_exporter": "python",
   "pygments_lexer": "ipython3",
   "version": "3.6.3"
  }
 },
 "nbformat": 4,
 "nbformat_minor": 2
}
