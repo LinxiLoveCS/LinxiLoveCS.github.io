{
 "cells": [
  {
   "cell_type": "markdown",
   "metadata": {},
   "source": [
    "<center><span style=\"font-size:2em;\">Suicide Around the Wrold Over 1985 - 2014</span></center>\n",
    "<center><span style=\"font-size:1.5em;\">By: Linxi  Liu</span></center>"
    "Lots studies have been done to study about suicide with the expectation to learn what factors typically associate with suicide and people want to predict suicide to prevent the tragedies. In this essay, I studied the suicide data from [Kaggle.com](https://www.kaggle.com/russellyates88/suicide-rates-overview-1985-to-2016) and have found three main interesting things: \n",
    "\n",
    "1.  How suicide rate diffrent among countires? Which country has the highest suicide rate?\n",
    "2.  Correlation between gender, age and the number of suicide.\n",
    "\n",
    "However, always remember that correlation does not necessarily mean a causual effect. "
   ]
  },
  {
   "cell_type": "markdown",
   "metadata": {},
   "source": [
    "### First, let's read in and pre-process the data"
   ]
  },
  {
   "cell_type": "code",
   "execution_count": 13,
   "metadata": {},
   "outputs": [
    {
     "name": "stdout",
     "output_type": "stream",
     "text": [
      "Enabling notebook extension jupyter-js-widgets/extension...\r\n",
      "      - Validating: \u001b[32mOK\u001b[0m\r\n"
     ]
    }
   ],
   "source": [
    "%matplotlib inline\n",
    "import pandas as pd\n",
    "import matplotlib.pyplot as plt\n",
    "import numpy as np\n",
    "from ipywidgets import *\n",
    "from IPython.display import display\n",
    "!jupyter nbextension enable --py widgetsnbextension\n",
    "import warnings\n",
    "warnings.filterwarnings('ignore')\n",
    "import plotly.plotly as py\n",
    "import plotly.graph_objs as go\n",
    "from plotly.offline import download_plotlyjs, init_notebook_mode, plot, iplot"
   ]
  },
  {
   "cell_type": "code",
   "execution_count": 14,
   "metadata": {},
   "outputs": [
    {
     "name": "stdout",
     "output_type": "stream",
     "text": [
      "(27820, 12)\n"
     ]
    }
   ],
   "source": [
    "# read in data\n",
    "data = pd.read_csv('master.csv')\n",
    "print(data.shape)\n",
    "data.head()\n",
    "# add a mean_age column\n",
    "data.loc['mean_age'] = None\n",
    "data.loc[data.age == '15-24 years','mean_age'] = np.mean([15,24])\n",
    "data.loc[data.age == '25-34 years','mean_age'] = np.mean([25,34])\n",
    "data.loc[data.age == '35-54 years','mean_age'] = np.mean([35,54])\n",
    "data.loc[data.age == '5-14 years','mean_age'] = np.mean([5,14])\n",
    "data.loc[data.age == '55-74 years','mean_age'] = np.mean([55,74])\n",
    "data.loc[data.age == '75+ years','mean_age'] = 75\n",
    "data = data.dropna()\n",
    "# data.head()"
   ]
  },
  {
   "cell_type": "code",
   "execution_count": 15,
   "metadata": {},
   "outputs": [
    {
     "name": "stdout",
     "output_type": "stream",
     "text": [
      "(249, 2)\n"
     ]
    }
   ],
   "source": [
    "# !pip install pycountry\n",
    "import pycountry\n",
    "country_dict = pd.DataFrame()\n",
    "for ctry in list(pycountry.countries):\n",
    "    country_code = ctry.alpha_3\n",
    "    country_name = ctry.name\n",
    "    country_dict = pd.concat([country_dict,pd.DataFrame([country_code,country_name]).T])\n",
    "country_dict.columns = ['country_code','country']\n",
    "print(country_dict.shape)\n",
    "# country_dict.head()"
   ]
  },
  {
   "cell_type": "markdown",
   "metadata": {},
   "source": [
    "### 1. How suicide rate diffrent among countires? Which country has the highest suicide rate?"
   ]
  },
  {
   "cell_type": "code",
   "execution_count": 17,
   "metadata": {},
   "outputs": [
    {
     "data": {
      "application/vnd.jupyter.widget-view+json": {
       "model_id": "aecb4e97949e47b5a008792b9cb9efe4",
       "version_major": 2,
       "version_minor": 0
      },
      "text/plain": [
       "interactive(children=(Dropdown(description='Year', options=(1985.0, 1990.0, 1995.0, 2000.0, 2005.0, 2010.0, 20…"
      ]
     },
     "metadata": {},
     "output_type": "display_data"
    }
   ],
   "source": [
    "# plot on map suicide rate vs. country over time\n",
    "import ipywidgets # interactivity\n",
    "\n",
    "@ipywidgets.interact(Year = np.unique(country_year_rate.year))\n",
    "def world_map(Year):\n",
    "    # Year = 1985\n",
    "    mask = country_year_rate[country_year_rate.year == Year]\n",
    "    max_value = max(mask.value)\n",
    "    max_country = mask[mask.value == max(mask.value)]['country'].values[0]\n",
    "    init_notebook_mode(connected=True)\n",
    "    data = [go.Choropleth(\n",
    "        locations = mask['country_code'],\n",
    "        z = mask['value'],\n",
    "        text = mask['country'],\n",
    "        colorscale = [\n",
    "            [0, \"rgb(110, 11, 24)\"],   \n",
    "            [0.35, \"rgb(179, 70, 70)\"],\n",
    "            [0.5, \"rgb(190,88,100)\"],\n",
    "            [0.6, \"rgb(201, 127,135 )\"],\n",
    "            [0.7, \"rgb(212, 166, 170)\"],\n",
    "            [1, \"rgb(220, 220, 220)\"]\n",
    "        ],\n",
    "        autocolorscale = False,\n",
    "        reversescale = True,\n",
    "        marker = go.choropleth.Marker(\n",
    "            line = go.choropleth.marker.Line(\n",
    "                color = 'rgb(180,180,180)',\n",
    "                width = 0.5\n",
    "            )),\n",
    "        colorbar = go.choropleth.ColorBar(\n",
    "            title = 'Suicide/100k Pop'),\n",
    "    )]\n",
    "\n",
    "    layout = go.Layout(\n",
    "        title = go.layout.Title(\n",
    "            text = 'Suicide/100k Pop around World in {} <br> {} has the maximun suicide/100k pop of {} this year'.format(Year.astype(int),max_country,round(max_value,2))\n",
    "        ),\n",
    "        geo = go.layout.Geo(\n",
    "            showframe = False,\n",
    "            showcoastlines = False,\n",
    "            projection = go.layout.geo.Projection(\n",
    "                type = 'equirectangular'\n",
    "            )\n",
    "        ),\n",
    "        annotations = [go.layout.Annotation(\n",
    "            x = 0.55,\n",
    "            y = 0.1,\n",
    "            xref = 'paper',\n",
    "            yref = 'paper',\n",
    "            text = 'Total number of suicides is {}'.format(year_count[Year]),\n",
    "            showarrow = False\n",
    "        )] \n",
    "    )\n",
    "\n",
    "    fig = go.Figure(data = data, layout = layout)\n",
    "    iplot(fig, filename = 'world-map')"
   ]
  },
  {
   "cell_type": "markdown",
   "metadata": {},
   "source": [
    "This image shows the suicide rate (defined as: total suicide divided by 100k population) around the world. You can choose a year of your interests. The deeper the color, the higher the suicide in that country. Note that the world map is not a complete map as the suicide information in some country, such as China, is not included in the dataset. \n",
    "\n",
    "I have observed that Lithuania has the highest suicide rate in many years (e.g. 1995, 2000, and 2005). I have, therefore, did some research online to find possible reasons. It seems suicide in Lithuania is so significant that there is even an [Wikipedia](https://en.wikipedia.org/wiki/Suicide_in_Lithuania) page for this issue. As mentioned by Kasparas Asmonaitis (2017) some researchers point out the fact that although northern countries such as Lithuanina has beautiful nature, the lack of  sunshine and the cold winters make people tend to depress, one of the common signs before suicide. Social and financial problems in Lithuania are also considered  as important reasons factors that lead to high rate of suicides. "
   ]
  },
  {
   "cell_type": "markdown",
   "metadata": {},
   "source": [
    "### 2. Correlation between gender, age and the number of suicide"
   ]
  },
  {
   "cell_type": "code",
   "execution_count": 57,
   "metadata": {},
   "outputs": [
    {
     "data": {
      "image/png": "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\n",
      "text/plain": [
       "<Figure size 432x288 with 1 Axes>"
      ]
     },
     "metadata": {},
     "output_type": "display_data"
    }
   ],
   "source": [
    "age_sex_count = data.groupby(['age','sex'])['suicides_no'].sum().unstack().reset_index().melt(id_vars='age')\n",
    "from itertools import islice, cycle\n",
    "mycolors = list(islice(cycle(['darkorange', 'steelblue']), None, len(age_sex_count)))\n",
    "age_sex_count = data.groupby(by=['age','sex'])['suicides_no'].sum()\n",
    "age_sex_count.plot(kind = 'bar',color = mycolors)\n",
    "plt.title('Number of Suicides by Sex & Gender')\n",
    "plt.ylabel('Suicide Counts')\n",
    "plt.xlabel('Age & Sex groups')\n",
    "plt.text(10, 398870, 'Female', style='italic',\n",
    "        bbox={'facecolor':'tab:orange', 'alpha': .9, 'pad': 5})\n",
    "plt.text(10, 458870, 'Male', style='italic',\n",
    "        bbox={'facecolor':'tab:blue', 'alpha': .6, 'pad': 5})\n",
    "plt.show()\n"
   ]
  },
  {
   "cell_type": "markdown",
   "metadata": {},
   "source": [
    "From the graph above,  we can observe that in any age and gender group, more males tend to kill themselves than females. Also, the suicide counts first increase along with age and reach a peack in the 35-54 age group, and then decrease since then. \n",
    "\n",
    "Next I displayed an average age of people committed suicide across years in different countires. You could choose a countrie of your interest.  For example if you want to see how the suicide age in Lithuania compared to other countries, you can specify the countries. "
   ]
  },
  {
   "cell_type": "code",
   "execution_count": 8,
   "metadata": {},
   "outputs": [
    {
     "data": {
      "text/plain": [
       "country\n",
       "Antigua and Barbuda     0.0\n",
       "Grenada                 3.0\n",
       "Maldives                4.0\n",
       "Oman                   20.0\n",
       "Seychelles             32.0\n",
       "Name: suicides_no, dtype: float64"
      ]
     },
     "execution_count": 8,
     "metadata": {},
     "output_type": "execute_result"
    }
   ],
   "source": [
    "country_suicide = data.groupby('country')['suicides_no'].sum()\n",
    "country_suicide = country_suicide.sort_values()\n",
    "country_suicide.head()"
   ]
  },
  {
   "cell_type": "code",
   "execution_count": 18,
   "metadata": {},
   "outputs": [
    {
     "data": {
      "application/vnd.jupyter.widget-view+json": {
       "model_id": "c707b18444114c2ab54b5ca47099daa3",
       "version_major": 2,
       "version_minor": 0
      },
      "text/plain": [
       "interactive(children=(Dropdown(description='country', options=('Albania', 'Antigua and Barbuda', 'Argentina', …"
      ]
     },
     "metadata": {},
     "output_type": "display_data"
    }
   ],
   "source": [
    "# Rolling average age in different countries across years\n",
    "country_suicide = data.groupby('country')['suicides_no'].sum()\n",
    "country_suicide = country_suicide.sort_values()\n",
    "\n",
    "@ipywidgets.interact(country = np.unique(data.country))\n",
    "def print_name(country):\n",
    "#     country = 'Japan'\n",
    "\n",
    "    country_sub = data[data.country == country]\n",
    "    country_sub['total_age'] = country_sub['mean_age']*country_sub['suicides_no']\n",
    "    country_sub['total_age'] = country_sub['total_age'].astype(float)\n",
    "    country_total_age = country_sub.groupby('year')['total_age'].sum()\n",
    "    country_total_suicide = country_sub.groupby('year')['suicides_no'].sum()\n",
    "    country_mean_age = country_total_age / country_total_suicide\n",
    "\n",
    "    # make data look less noisy with rolling averages\n",
    "    @ipywidgets.interact(Window=(1,len(country_mean_age),1))\n",
    "    def make_plot(Window):\n",
    "        avg_age_avg = country_mean_age.rolling(window=Window).mean()\n",
    "        plt.plot(country_mean_age, marker='.', linewidth=0.5, alpha=1,label = 'average age')\n",
    "        plt.plot(avg_age_avg, marker='.', linewidth=1.5, label='rolling average age')\n",
    "        plt.title('Rolling Average Age of Suicides in {} Over Years'.format(country))\n",
    "        plt.legend()\n",
    "        plt.xlabel('Year')\n",
    "        plt.ylabel('Suicide Age')"
   ]
  },
  {
   "cell_type": "markdown",
   "metadata": {},
   "source": [
    "It seems the average suicide age in a lot of the countries has an increasing tendency. For example, the average suicide age in Lithuanina has been increasing since 1995 to 2012, although dropped significantly in 2013, but skyrocked again in year 2014. I have  also observed that the average suicide age, around 50 to 55,in many Europe countries  is slightly higher than that in North America, typically between 44 and 50. "
   ]
  },
  {
   "cell_type": "markdown",
   "metadata": {},
   "source": [
    "### References:\n",
    "- Rusty (2018).*Suicide Rates Overview 1985 to 2016 (version1)*. Retrived from: https://www.kaggle.com/russellyates88/suicide-rates-overview-1985-to-2016\n",
    "- Wikpedia Suicide in Lithuania. Retrived from: https://en.wikipedia.org/wiki/Suicide_in_Lithuania\n",
    "- Kasparas Asmonaitis (November,2017).*This Country Has Among the Highest Suicide Rates in the World*. Retrived from: https://theculturetrip.com/europe/lithuania/articles/this-country-has-among-the-highest-suicide-rates-in-the-world/"
   ]
  }
 ],
 "metadata": {
  "kernelspec": {
   "display_name": "Python 3",
   "language": "python",
   "name": "python3"
  },
  "language_info": {
   "codemirror_mode": {
    "name": "ipython",
    "version": 3
   },
   "file_extension": ".py",
   "mimetype": "text/x-python",
   "name": "python",
   "nbconvert_exporter": "python",
   "pygments_lexer": "ipython3",
   "version": "3.6.3"
  }
 },
 "nbformat": 4,
 "nbformat_minor": 2
}
